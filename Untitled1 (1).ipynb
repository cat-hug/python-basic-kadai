{
  "nbformat": 4,
  "nbformat_minor": 0,
  "metadata": {
    "colab": {
      "provenance": []
    },
    "kernelspec": {
      "name": "python3",
      "display_name": "Python 3"
    },
    "language_info": {
      "name": "python"
    }
  },
  "cells": [
    {
      "cell_type": "code",
      "execution_count": 7,
      "metadata": {
        "colab": {
          "base_uri": "https://localhost:8080/"
        },
        "id": "TKhhAipC0Exp",
        "outputId": "60f14308-6f0a-487d-fdd2-e3f7cc636b91"
      },
      "outputs": [
        {
          "output_type": "stream",
          "name": "stdout",
          "text": [
            "75.0cm\n"
          ]
        }
      ],
      "source": [
        "a=10\n",
        "b=20\n",
        "c=5\n",
        "text=\"cm\"\n",
        "\n",
        "\n",
        "num= (a+b)*c/2\n",
        "area=str(num)+text\n",
        "print(area)"
      ]
    }
  ]
}