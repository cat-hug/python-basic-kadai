{
  "nbformat": 4,
  "nbformat_minor": 0,
  "metadata": {
    "colab": {
      "provenance": []
    },
    "kernelspec": {
      "name": "python3",
      "display_name": "Python 3"
    },
    "language_info": {
      "name": "python"
    }
  },
  "cells": [
    {
      "cell_type": "code",
      "execution_count": null,
      "metadata": {
        "colab": {
          "base_uri": "https://localhost:8080/"
        },
        "id": "TKhhAipC0Exp",
        "outputId": "d1b11ff1-e775-4421-978a-9037dd1c7fde"
      },
      "outputs": [
        {
          "output_type": "stream",
          "name": "stdout",
          "text": [
            "75.0\n"
          ]
        }
      ],
      "source": [
        "a=10\n",
        "b=20\n",
        "c=5\n",
        "\n",
        "num= (a+b)*c/2\n",
        "\n",
        "print(num)"
      ]
    }
  ]
}